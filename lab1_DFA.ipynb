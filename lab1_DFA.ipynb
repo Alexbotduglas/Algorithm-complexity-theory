{
 "cells": [
  {
   "cell_type": "code",
   "execution_count": 22,
   "metadata": {},
   "outputs": [
    {
     "name": "stdout",
     "output_type": "stream",
     "text": [
      "Начальное состояние: even01\n",
      "Встречен символ 0. Переход из even01 в odd0\n",
      "Встречен символ 1. Переход из odd0 в odd01\n",
      "Конечное состояние: odd01\n",
      "Строка принадлежит языку\n"
     ]
    }
   ],
   "source": [
    "import re\n",
    "\n",
    "class DeterministicFiniteAutomaton:\n",
    "    history = []\n",
    "\n",
    "    def __init__(self, q0, q_accept, transitions):\n",
    "        self.q0 = q0\n",
    "        self.state = q0\n",
    "        self.q_accept = q_accept\n",
    "        self.transitions = transitions\n",
    "\n",
    "    def validate(self, input):\n",
    "        if re.match(\"^([01]+)?$\", input) == None:\n",
    "            self.history.append(\"Входная строка должна состоять только из символов 0 и 1\")\n",
    "            return False\n",
    "        \n",
    "        return True\n",
    "\n",
    "    def process(self, input):\n",
    "        self.state = self.q0\n",
    "        \n",
    "        valid = self.validate(input)\n",
    "        if not valid:\n",
    "            self.show_and_clear_history()\n",
    "            return\n",
    "        \n",
    "        self.history.append(f\"Начальное состояние: {self.state}\")\n",
    "\n",
    "        for symbol in input:\n",
    "            key = f\"{self.state} and {symbol}\"\n",
    "            new_state = transitions[key]\n",
    "\n",
    "            self.history.append(f\"Встречен символ {symbol}. Переход из {self.state} в {new_state}\")\n",
    "            self.state = new_state\n",
    "        \n",
    "        self.history.append(f\"Конечное состояние: {self.state}\")\n",
    "        self.history.append(\"Строка принадлежит языку\" if self.state in self.q_accept \\\n",
    "                       else \"Строка не принадлежит языку\")\n",
    "\n",
    "        self.show_and_clear_history()\n",
    "\n",
    "    def show_and_clear_history(self):\n",
    "        for log_str in self.history:\n",
    "            print(log_str)\n",
    "        self.history = []\n",
    "\n",
    "transitions = {  \n",
    "    \"even01 and 0\": \"odd0\",\n",
    "    \"even01 and 1\": \"odd1\",\n",
    "    \"odd0 and 0\": \"even01\",\n",
    "    \"odd0 and 1\": \"odd01\",\n",
    "    \"odd1 and 0\": \"odd01\",\n",
    "    \"odd1 and 1\": \"even01\",\n",
    "    \"odd01 and 0\": \"odd1\",\n",
    "    \"odd01 and 1\": \"odd0\", }\n",
    "\n",
    "\n",
    "dfa = DeterministicFiniteAutomaton(\"even01\", set([\"odd01\"]), transitions)\n",
    "dfa.process(\"01\")"
   ]
  },
  {
   "cell_type": "markdown",
   "metadata": {},
   "source": [
    "Недопустимый алфавит"
   ]
  },
  {
   "cell_type": "code",
   "execution_count": 23,
   "metadata": {},
   "outputs": [
    {
     "name": "stdout",
     "output_type": "stream",
     "text": [
      "Входная строка должна состоять только из символов 0 и 1\n"
     ]
    }
   ],
   "source": [
    "# Недопустимый алфавит\n",
    "dfa.process(\"abc\")"
   ]
  },
  {
   "cell_type": "code",
   "execution_count": 24,
   "metadata": {},
   "outputs": [
    {
     "name": "stdout",
     "output_type": "stream",
     "text": [
      "Начальное состояние: even01\n",
      "Конечное состояние: even01\n",
      "Строка не принадлежит языку\n"
     ]
    }
   ],
   "source": [
    "dfa.process(\"\")"
   ]
  },
  {
   "cell_type": "code",
   "execution_count": 26,
   "metadata": {},
   "outputs": [
    {
     "name": "stdout",
     "output_type": "stream",
     "text": [
      "Начальное состояние: even01\n",
      "Встречен символ 0. Переход из even01 в odd0\n",
      "Встречен символ 0. Переход из odd0 в even01\n",
      "Встречен символ 1. Переход из even01 в odd1\n",
      "Встречен символ 0. Переход из odd1 в odd01\n",
      "Конечное состояние: odd01\n",
      "Строка принадлежит языку\n"
     ]
    }
   ],
   "source": [
    "dfa.process(\"0010\")"
   ]
  },
  {
   "cell_type": "code",
   "execution_count": 28,
   "metadata": {},
   "outputs": [
    {
     "name": "stdout",
     "output_type": "stream",
     "text": [
      "Начальное состояние: even01\n",
      "Встречен символ 1. Переход из even01 в odd1\n",
      "Встречен символ 1. Переход из odd1 в even01\n",
      "Встречен символ 0. Переход из even01 в odd0\n",
      "Конечное состояние: odd0\n",
      "Строка не принадлежит языку\n"
     ]
    }
   ],
   "source": [
    "dfa.process(\"110\")"
   ]
  }
 ],
 "metadata": {
  "kernelspec": {
   "display_name": "Python 3",
   "language": "python",
   "name": "python3"
  },
  "language_info": {
   "codemirror_mode": {
    "name": "ipython",
    "version": 3
   },
   "file_extension": ".py",
   "mimetype": "text/x-python",
   "name": "python",
   "nbconvert_exporter": "python",
   "pygments_lexer": "ipython3",
   "version": "3.9.13"
  }
 },
 "nbformat": 4,
 "nbformat_minor": 2
}
